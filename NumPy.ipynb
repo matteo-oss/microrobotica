{
 "cells": [
  {
   "cell_type": "markdown",
   "id": "3c490dba",
   "metadata": {},
   "source": [
    "### Comando magico:\n",
    "\n",
    "comando di jupyter: quanto tempo impiega una cella a girare\n",
    "iniziano con % a inizio cella\n",
    "quando uso i comandi magici perdo il valore delle variabili"
   ]
  },
  {
   "cell_type": "code",
   "execution_count": 10,
   "id": "12c74f14",
   "metadata": {},
   "outputs": [
    {
     "name": "stdout",
     "output_type": "stream",
     "text": [
      "2.25 ms ± 327 µs per loop (mean ± std. dev. of 7 runs, 100 loops each)\n"
     ]
    }
   ],
   "source": [
    "%%timeit\n",
    "quadrati=[]\n",
    "\n",
    "for i in range(1,10000):\n",
    "    quadrati.append(i**2)"
   ]
  },
  {
   "cell_type": "code",
   "execution_count": 11,
   "id": "e559c641",
   "metadata": {},
   "outputs": [
    {
     "data": {
      "text/plain": [
       "[1,\n",
       " 4,\n",
       " 9,\n",
       " 16,\n",
       " 25,\n",
       " 36,\n",
       " 49,\n",
       " 64,\n",
       " 81,\n",
       " 100,\n",
       " 121,\n",
       " 144,\n",
       " 169,\n",
       " 196,\n",
       " 225,\n",
       " 256,\n",
       " 289,\n",
       " 324,\n",
       " 361,\n",
       " 400,\n",
       " 441,\n",
       " 484,\n",
       " 529,\n",
       " 576,\n",
       " 625,\n",
       " 676,\n",
       " 729,\n",
       " 784,\n",
       " 841,\n",
       " 900,\n",
       " 961,\n",
       " 1024,\n",
       " 1089,\n",
       " 1156,\n",
       " 1225,\n",
       " 1296,\n",
       " 1369,\n",
       " 1444,\n",
       " 1521,\n",
       " 1600,\n",
       " 1681,\n",
       " 1764,\n",
       " 1849,\n",
       " 1936,\n",
       " 2025,\n",
       " 2116,\n",
       " 2209,\n",
       " 2304,\n",
       " 2401,\n",
       " 2500,\n",
       " 2601,\n",
       " 2704,\n",
       " 2809,\n",
       " 2916,\n",
       " 3025,\n",
       " 3136,\n",
       " 3249,\n",
       " 3364,\n",
       " 3481,\n",
       " 3600,\n",
       " 3721,\n",
       " 3844,\n",
       " 3969,\n",
       " 4096,\n",
       " 4225,\n",
       " 4356,\n",
       " 4489,\n",
       " 4624,\n",
       " 4761,\n",
       " 4900,\n",
       " 5041,\n",
       " 5184,\n",
       " 5329,\n",
       " 5476,\n",
       " 5625,\n",
       " 5776,\n",
       " 5929,\n",
       " 6084,\n",
       " 6241,\n",
       " 6400,\n",
       " 6561,\n",
       " 6724,\n",
       " 6889,\n",
       " 7056,\n",
       " 7225,\n",
       " 7396,\n",
       " 7569,\n",
       " 7744,\n",
       " 7921,\n",
       " 8100,\n",
       " 8281,\n",
       " 8464,\n",
       " 8649,\n",
       " 8836,\n",
       " 9025,\n",
       " 9216,\n",
       " 9409,\n",
       " 9604,\n",
       " 9801]"
      ]
     },
     "execution_count": 11,
     "metadata": {},
     "output_type": "execute_result"
    }
   ],
   "source": [
    "quadrati"
   ]
  },
  {
   "cell_type": "markdown",
   "id": "fc5277bf",
   "metadata": {},
   "source": [
    "valor medio \n",
    "deviazione standard: quanto i voti sono concentrati alla media\n",
    "jupyter lo esegue più volte e ogni volta misura il tempo e fa la media"
   ]
  },
  {
   "cell_type": "markdown",
   "id": "d5e67936",
   "metadata": {},
   "source": [
    "### NumPY\n",
    "non è nativo=non incluso python, ma anaconda lo contiene"
   ]
  },
  {
   "cell_type": "code",
   "execution_count": 12,
   "id": "5b1bc226",
   "metadata": {},
   "outputs": [],
   "source": [
    "import numpy as np #alias: standard"
   ]
  },
  {
   "cell_type": "markdown",
   "id": "406bce7d",
   "metadata": {},
   "source": [
    "## Introduzione a NumPy\n",
    "si basa sugli array (ndarray)\n",
    "in python non esistono (le liste non sono array)\n",
    "per fare un array: gli elementi devono essere dello stesso tipo\n"
   ]
  },
  {
   "cell_type": "markdown",
   "id": "b8acdc3d",
   "metadata": {},
   "source": [
    "### Creazione array a 1 dimensione"
   ]
  },
  {
   "cell_type": "code",
   "execution_count": 13,
   "id": "81a70adb",
   "metadata": {},
   "outputs": [
    {
     "data": {
      "text/plain": [
       "array([0., 0., 0., 0., 0., 0., 0., 0., 0., 0.])"
      ]
     },
     "execution_count": 13,
     "metadata": {},
     "output_type": "execute_result"
    }
   ],
   "source": [
    "# array di zeri\n",
    "array_di_zery=np.zeros(10)\n",
    "array_di_zery"
   ]
  },
  {
   "cell_type": "code",
   "execution_count": 15,
   "id": "df4fa224",
   "metadata": {},
   "outputs": [
    {
     "data": {
      "text/plain": [
       "dtype('float64')"
      ]
     },
     "execution_count": 15,
     "metadata": {},
     "output_type": "execute_result"
    }
   ],
   "source": [
    "#array è un oggetto di numpy di float a 64 bit\n",
    "array_di_zery.dtype"
   ]
  },
  {
   "cell_type": "code",
   "execution_count": 24,
   "id": "764b851f",
   "metadata": {},
   "outputs": [
    {
     "data": {
      "text/plain": [
       "array([0, 0, 0, 0, 0, 0, 0, 0, 0, 0], dtype=int8)"
      ]
     },
     "execution_count": 24,
     "metadata": {},
     "output_type": "execute_result"
    }
   ],
   "source": [
    "array_di_zery_interi=np.zeros(10, dtype=np.int8) #numpy ha diversi tipi\n",
    "array_di_zery_interi"
   ]
  },
  {
   "cell_type": "code",
   "execution_count": 22,
   "id": "c9cb7693",
   "metadata": {},
   "outputs": [
    {
     "data": {
      "text/plain": [
       "array([1., 1., 1., 1., 1.])"
      ]
     },
     "execution_count": 22,
     "metadata": {},
     "output_type": "execute_result"
    }
   ],
   "source": [
    "# array di uni\n",
    "array_di_uni=np.ones(5)\n",
    "array_di_uni"
   ]
  },
  {
   "cell_type": "code",
   "execution_count": 28,
   "id": "7fdc05ee",
   "metadata": {},
   "outputs": [],
   "source": [
    "#array di tre:\n",
    "array_di_tre=np.ones(10, dtype=np.int8)*3\n",
    "#broadcast\n",
    "#quando moltiplico un array di numpy per un numero la moltiplicazione viene fatta elemento per elemento\n",
    "#broadcast: operazione fatta su tutti gli elementi"
   ]
  },
  {
   "cell_type": "code",
   "execution_count": 29,
   "id": "4f45faac",
   "metadata": {},
   "outputs": [
    {
     "data": {
      "text/plain": [
       "array([3, 3, 3, 3, 3, 3, 3, 3, 3, 3], dtype=int8)"
      ]
     },
     "execution_count": 29,
     "metadata": {},
     "output_type": "execute_result"
    }
   ],
   "source": [
    "array_di_tre"
   ]
  },
  {
   "cell_type": "code",
   "execution_count": 30,
   "id": "1dac09a2",
   "metadata": {},
   "outputs": [
    {
     "data": {
      "text/plain": [
       "array([1, 2, 3, 4, 5, 6, 7, 8, 9])"
      ]
     },
     "execution_count": 30,
     "metadata": {},
     "output_type": "execute_result"
    }
   ],
   "source": [
    "#array di numeri interi crescenti\n",
    "array_numeri_crescenti=np.arange(1,10)\n",
    "array_numeri_crescenti"
   ]
  },
  {
   "cell_type": "code",
   "execution_count": 35,
   "id": "76ac7f9b",
   "metadata": {},
   "outputs": [
    {
     "name": "stdout",
     "output_type": "stream",
     "text": [
      "25.5 µs ± 1.41 µs per loop (mean ± std. dev. of 7 runs, 10,000 loops each)\n"
     ]
    }
   ],
   "source": [
    "%%timeit\n",
    "array_quadrati=np.arange(1,10000)**2"
   ]
  },
  {
   "cell_type": "code",
   "execution_count": 34,
   "id": "a1365f74",
   "metadata": {},
   "outputs": [
    {
     "data": {
      "text/plain": [
       "array([       1,        4,        9, ..., 99940009, 99960004, 99980001])"
      ]
     },
     "execution_count": 34,
     "metadata": {},
     "output_type": "execute_result"
    }
   ],
   "source": [
    "array_quadrati #altra operazione di broadcast"
   ]
  },
  {
   "cell_type": "code",
   "execution_count": null,
   "id": "79caf602",
   "metadata": {},
   "outputs": [],
   "source": []
  }
 ],
 "metadata": {
  "kernelspec": {
   "display_name": "Python 3 (ipykernel)",
   "language": "python",
   "name": "python3"
  },
  "language_info": {
   "codemirror_mode": {
    "name": "ipython",
    "version": 3
   },
   "file_extension": ".py",
   "mimetype": "text/x-python",
   "name": "python",
   "nbconvert_exporter": "python",
   "pygments_lexer": "ipython3",
   "version": "3.11.4"
  }
 },
 "nbformat": 4,
 "nbformat_minor": 5
}
