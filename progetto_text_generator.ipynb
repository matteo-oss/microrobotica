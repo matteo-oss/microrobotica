{
 "cells": [
  {
   "cell_type": "markdown",
   "id": "b3e2e10f",
   "metadata": {},
   "source": [
    "### Algortimo generativo:\n",
    "\n",
    "genera testo a partire da ciò che ha imparato dal testo.\n",
    "L'algortimo generativo: parola iniziale, lunghezza frase e lui la genera partendo dalla parola iniziale e usando random.choice mi sceglie una parola e poi passo alla successiva dove farò la random.choice"
   ]
  },
  {
   "cell_type": "code",
   "execution_count": 1,
   "id": "9f8ec730",
   "metadata": {},
   "outputs": [],
   "source": [
    "#Importazione librerie\n",
    "import random"
   ]
  },
  {
   "cell_type": "markdown",
   "id": "2862da62",
   "metadata": {},
   "source": [
    "### Classe\n",
    "in python tutto è pubblico, nessun metodo get e set\n",
    "definizione:\n",
    "\n",
    "class NomeClasse"
   ]
  },
  {
   "cell_type": "code",
   "execution_count": 2,
   "id": "7354cc41",
   "metadata": {},
   "outputs": [],
   "source": [
    "class TextGenerator():#no ereditarietà\n",
    "    def __init__(self, file_path, punteggiatura):#costruttore this=self\n",
    "        self.file_path=file_path\n",
    "        self.punteggiatura=punteggiatura\n",
    "        self.parole=[] \n",
    "        self.dizionario={}\n",
    "        \n",
    "    def file_2_lista_parole(self):\n",
    "        \n",
    "        \"\"\"\n",
    "        lafunzione file_2_lista_parole tasforma un file di testo nella lista di parole.\n",
    "\n",
    "        INPUT:\n",
    "        -file_path: str, pathe del file di testo\n",
    "        -punteggiatura: list or str, lista dei carattri di punteggiatura da eliminare\n",
    "\n",
    "        RETURN:\n",
    "        -lista di parole\n",
    "        \"\"\"\n",
    "        file = open(self.file_path, \"r\", encoding=\"utf-8\")\n",
    "        righe = file.readlines()\n",
    "        righe_senza_return=[riga[:-1]for riga in righe if len(riga)>1]\n",
    "        libro=\" \".join(righe_senza_return).lower()#metto tutto in minuscolo\n",
    "        for carattere in self.punteggiatura:\n",
    "            libro=libro.replace(carattere, \" \")\n",
    "        #pass non fa niente, permette di eseguire un programma senza aver completato delle parti\n",
    "        self.parole=libro.split(\" \")\n",
    "        self.parole=[parola for parola in self.parole if len(parola)>0]\n",
    "        file.close()\n",
    "        \n",
    "       \n",
    "    def lista_2_dizionario(self):\n",
    "        \n",
    "        \n",
    "        '''\n",
    "        lafunzione lista_2_dizionario tasforma una lista di stringhe in un vocabolario dove:\n",
    "\n",
    "        -ogni parola è una chiave del dizionario\n",
    "        -i valori sono una lista di parole successive a quella parola\n",
    "\n",
    "        INPUT:\n",
    "        -parole: list, lista di stringhe\n",
    "        -punteggiatura: list or str, lista dei carattri di punteggiatura da eliminare\n",
    "\n",
    "        RETURN:\n",
    "        -dizionario avente come chiavi le parole e come valori, la lista delle parole successive alla parola chiave\n",
    "        '''\n",
    "    \n",
    "        for i in range(len(self.parole)):\n",
    "            if i<len(self.parole)-1:\n",
    "\n",
    "                if self.parole[i] not in self.dizionario:\n",
    "\n",
    "                    self.dizionario[self.parole[i]]=[self.parole[i+1]]\n",
    "                else:\n",
    "                    self.dizionario[self.parole[i]].append(self.parole[i+1])\n",
    "\n",
    "       \n",
    "    \n",
    "    #non ritorna niente\n",
    "        \n",
    "    def generatesto(self, parola_iniziale, lunghezza):\n",
    "        \n",
    "        '''\n",
    "        la funzione generatesto crea una frase casuale a partire da una parola scelta dall'utente.\n",
    "        La frase ha una lunghezza stabilita dall'utente.\n",
    "        La parola scelta viene cercata in un dizionario avente come chiavi tutte le parole \n",
    "        contenute in un file e come valori una lista delle parole successive  alla parola chiave.\n",
    "        Se la parola non è presente nel dizionario, il metodo stampa una stringa vuota.\n",
    "        INPUT:\n",
    "        -parola_iniziale: parola  da cui il metodo inizia la generazione della frase\n",
    "        -lunghezza: numero di parole, spazi compresi, che compongono la frase\n",
    "\n",
    "        RETURN:\n",
    "        -frase generata casualmente a partire dalla parola iniziale\n",
    "        \n",
    "        '''\n",
    "        #ritorna la stringa con il testo generato\n",
    "        frase=\"\"\n",
    "        if parola_iniziale in self.dizionario:\n",
    "            parola=parola_iniziale\n",
    "            frase=parola_iniziale+\" \"\n",
    "            for i in range(lunghezza):\n",
    "                parola=random.choice(self.dizionario[parola])\n",
    "                frase=frase+\" \"+parola\n",
    "\n",
    "\n",
    "        else:\n",
    "            print(f\"la parola: {parola_iniziale} non è presente nel testo.\")\n",
    "        return frase \n",
    "        \n",
    "        #def nuovo_metodo(self):\n",
    "            #pass\n",
    "    \n",
    "\n",
    "    "
   ]
  },
  {
   "cell_type": "markdown",
   "id": "bd8e8e38",
   "metadata": {},
   "source": [
    "per definire i metodi:\n",
    "\n",
    "def nome_metodo(self)\n",
    "self fa iferimento al costruttore, equivale al \"this\" di Java\n",
    "ogni metodo è documenato con la docString. Perciò per ottenere maggiori informazioni\n",
    "sul metodo della classe:\n",
    "\n",
    "NomeClasse.nomeMetodo?\n",
    "\n",
    "il metodo commentato (nuovo_metodo), se tolto dai commenti, grazie all'istruzione pass mi permetterebbe di\n",
    "creare l'oggetto anche se non ho definito il corpo del metodo"
   ]
  },
  {
   "cell_type": "code",
   "execution_count": 3,
   "id": "743c8869",
   "metadata": {},
   "outputs": [
    {
     "name": "stdout",
     "output_type": "stream",
     "text": [
      "inserire la parola iniziale: cuoco\n",
      "Inserire la lunghezza della frase50\n",
      "la frase generata causalmente è:\n",
      "cuoco  e dunque madama pace e ballerà come non sarà la voce dello stessissimo parere gli attori si fermerà un tratto gli occhi ogni cinque personaggi e prestino ascolto l attrice vogliono il direttore di ventidue anni vestito di farsi intendere tutta codesta parola per proseguire più degno cappellino non so\n"
     ]
    }
   ],
   "source": [
    "caratteri_speciali=[\",\", \";\", \".\", \"(\", \")\", \"?\", \"!\", \":\", \">>\", \"<<\", \"»\", \"«\", \"'\", \"--\",\"1\",\"2\",\"3\", \"4\", \"5\", \"6\", \"7\", \"8\", \"9\", \"0\", \"/\", \"[\", \"]\"]\n",
    "file_path=\"./sei_personaggi_in_cerca_dautore_Luigi_Pirandello.txt\"\n",
    "parola_iniziale=input(\"inserire la parola iniziale: \")\n",
    "lunghezza=int(input(\"Inserire la lunghezza della frase\"))\n",
    "texgenerator=TextGenerator(file_path, caratteri_speciali)\n",
    "texgenerator.file_2_lista_parole()\n",
    "texgenerator.lista_2_dizionario()\n",
    "print(f\"la frase generata causalmente è:\\n{texgenerator.generatesto(parola_iniziale, lunghezza)}\")"
   ]
  },
  {
   "cell_type": "markdown",
   "id": "c4968fcd",
   "metadata": {},
   "source": [
    "in questo esercizio lavoriamo per parole.\n",
    "Chatgpt lavora con i tokens.\n",
    "la libreria Python che spezza le frasi in token è la tiktokeneizer\n",
    "a chatgpt diamo in input un prompt, una frase->l'ingegnere dei prompt: come chiedere a chatgpt per ottenere frasi esaustive\n",
    "e utilizza un algoritmo di testo generativo che usa una rete neurale molto complessa.\n",
    "i modelli più semplici 4096, altri più complessi 16000.\n",
    "Chatgpt prevde token in base a quelli che li diamo.\n",
    "i token sono numeri e la rete neyarle in base a questi numeri prevede i prossimi.\n",
    "Per noi le parole sono formate da lettere, con un vocabolario.\n",
    "Chatgpt lavora sui token: non legata su parole o lettere.  Una frase è come una lista python di numeri, ogni taken è un numero."
   ]
  },
  {
   "cell_type": "code",
   "execution_count": null,
   "id": "7a07874b",
   "metadata": {},
   "outputs": [],
   "source": []
  }
 ],
 "metadata": {
  "kernelspec": {
   "display_name": "Python 3 (ipykernel)",
   "language": "python",
   "name": "python3"
  },
  "language_info": {
   "codemirror_mode": {
    "name": "ipython",
    "version": 3
   },
   "file_extension": ".py",
   "mimetype": "text/x-python",
   "name": "python",
   "nbconvert_exporter": "python",
   "pygments_lexer": "ipython3",
   "version": "3.11.4"
  }
 },
 "nbformat": 4,
 "nbformat_minor": 5
}
