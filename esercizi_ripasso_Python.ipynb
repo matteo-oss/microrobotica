{
 "cells": [
  {
   "cell_type": "markdown",
   "id": "ed54f8ac",
   "metadata": {},
   "source": [
    "### Esercizio 1:\n",
    "\n",
    "Scrivi un programma python in cui inizializzi 4 variabili con un intero, una stringa, un floating point e un booleano. Stampa i valori delle variabili e il loro tipi(con la funzione type)\n"
   ]
  },
  {
   "cell_type": "code",
   "execution_count": 3,
   "id": "4ad334c4",
   "metadata": {},
   "outputs": [
    {
     "name": "stdout",
     "output_type": "stream",
     "text": [
      "contenuto della variabile di tipo <class 'int'>: 5\n",
      "contenuto della variabile di tipo <class 'float'>: 8.5\n",
      "contenuto della variabile di tipo <class 'str'>: ciao Mondo\n",
      "contenuto della variabile di tipo <class 'bool'>: True\n"
     ]
    }
   ],
   "source": [
    "intero=5\n",
    "numero_reale=8.5\n",
    "stringa=\"ciao Mondo\"\n",
    "booleano=True\n",
    "\n",
    "print(f\"contenuto della variabile di tipo {type(intero)}: {intero}\")\n",
    "print(f\"contenuto della variabile di tipo {type(numero_reale)}: {numero_reale}\")\n",
    "print(f\"contenuto della variabile di tipo {type(stringa)}: {stringa}\")\n",
    "print(f\"contenuto della variabile di tipo {type(booleano)}: {booleano}\")\n"
   ]
  },
  {
   "cell_type": "markdown",
   "id": "5519bd94",
   "metadata": {},
   "source": [
    "### Esercizio 2:\n",
    "\n",
    "Scrivi un programma python in cui inizializzi 4 variabili con un intero, una stringa, un floating point e un booleano con l'assegnazione multipla. Stampa i valori delle variabili e il loro tipi(con la funzione type)\n"
   ]
  },
  {
   "cell_type": "code",
   "execution_count": 4,
   "id": "5cdc1f45",
   "metadata": {},
   "outputs": [
    {
     "name": "stdout",
     "output_type": "stream",
     "text": [
      "contenuto della variabile di tipo <class 'int'>: 5\n",
      "contenuto della variabile di tipo <class 'float'>: 8.5\n",
      "contenuto della variabile di tipo <class 'str'>: ciao Mondo\n",
      "contenuto della variabile di tipo <class 'bool'>: True\n"
     ]
    }
   ],
   "source": [
    "intero, numero_reale, stringa, booleano  =5, 8.5, \"ciao Mondo\", True\n",
    "\n",
    "print(f\"contenuto della variabile di tipo {type(intero)}: {intero}\")\n",
    "print(f\"contenuto della variabile di tipo {type(numero_reale)}: {numero_reale}\")\n",
    "print(f\"contenuto della variabile di tipo {type(stringa)}: {stringa}\")\n",
    "print(f\"contenuto della variabile di tipo {type(booleano)}: {booleano}\")"
   ]
  },
  {
   "cell_type": "markdown",
   "id": "2226e399",
   "metadata": {},
   "source": [
    "### Esercizio: 3\n",
    "Scrivi un programma in Python in cui:\n",
    "- inizializzi due variabili, prima e seconda, con due numeri interi diversi a tua scelta;\n",
    "-  stampi i valori delle variabili usando una sola f-string;\n",
    "- scambi i valori tra le due variabili;\n",
    "- stampi i nuovi valori delle variabili usando una sola f-string."
   ]
  },
  {
   "cell_type": "code",
   "execution_count": 6,
   "id": "ece6026e",
   "metadata": {},
   "outputs": [
    {
     "name": "stdout",
     "output_type": "stream",
     "text": [
      "varibile prima, seconda:(3, 8)\n",
      "varibile prima, seconda:(8, 3)\n"
     ]
    }
   ],
   "source": [
    "prima, seconda= 3, 8\n",
    "\n",
    "print(f\"varibile prima, seconda:{prima, seconda}\")\n",
    "\n",
    "prima, seconda=seconda, prima\n",
    "\n",
    "print(f\"varibile prima, seconda:{prima, seconda}\")\n"
   ]
  },
  {
   "cell_type": "markdown",
   "id": "32caadc6",
   "metadata": {},
   "source": [
    "### Esericizio 4:\n",
    "\n",
    "\n",
    "Scrivi un programma in Python che, assegnata una parola a una variabile stringa, stampi le lettere iniziali e finali della parola."
   ]
  },
  {
   "cell_type": "code",
   "execution_count": 8,
   "id": "2e248708",
   "metadata": {},
   "outputs": [
    {
     "name": "stdout",
     "output_type": "stream",
     "text": [
      "prima lettera: b, ultima lettera: n\n"
     ]
    }
   ],
   "source": [
    "parola=\"bacon\"\n",
    "\n",
    "print(f\"prima lettera: {parola[0]}, ultima lettera: {parola[-1]}\")"
   ]
  },
  {
   "cell_type": "markdown",
   "id": "7878451e",
   "metadata": {},
   "source": [
    "### Esercizio 5:\n",
    "\n",
    "Scrivi un programma in Python che, assegnata una parola a una variabile stringa, stampi tutta la parola tranne le lettere iniziali e finali della parola.\n"
   ]
  },
  {
   "cell_type": "code",
   "execution_count": 10,
   "id": "79a65256",
   "metadata": {},
   "outputs": [
    {
     "name": "stdout",
     "output_type": "stream",
     "text": [
      "parola senza iniziale e finale: egg\n"
     ]
    }
   ],
   "source": [
    "parola=\"eggs\"\n",
    "\n",
    "print(f\"parola senza iniziale e finale: {parola[0:-1]}\")"
   ]
  },
  {
   "cell_type": "markdown",
   "id": "4584a795",
   "metadata": {},
   "source": [
    "### Esercizio 6:\n",
    "\n",
    "Scrivi un programma in Python che, assegnata una parola a una variabile stringa, stampi solo i caratteri con indice dispari (per esempio della parola \"ciao\" visualizzerà solo \"io\")."
   ]
  },
  {
   "cell_type": "code",
   "execution_count": 3,
   "id": "3f6b5a70",
   "metadata": {},
   "outputs": [
    {
     "name": "stdout",
     "output_type": "stream",
     "text": [
      "Lettere dispari: ['l', 'c']\n"
     ]
    }
   ],
   "source": [
    "parola=\"alice\"\n",
    "\n",
    "lettere_dispari=[parola[i] for i in  range(len(parola))  if i%2==1]\n",
    "\n",
    "print(f\"Lettere dispari: {lettere_dispari}\")\n",
    "   "
   ]
  },
  {
   "cell_type": "markdown",
   "id": "0f6c714a",
   "metadata": {},
   "source": [
    "### Esercizio 7:\n",
    "\n",
    "Scrivi un programma in Python che, assegnata una parola a una variabile stringa, stampi la parola invertita."
   ]
  },
  {
   "cell_type": "code",
   "execution_count": 2,
   "id": "d9ebb880",
   "metadata": {},
   "outputs": [
    {
     "name": "stdout",
     "output_type": "stream",
     "text": [
      "parola invertita: enac\n"
     ]
    }
   ],
   "source": [
    "parola=\"cane\"\n",
    "parola=parola[::-1]\n",
    "print(f\"parola invertita: {parola}\")"
   ]
  },
  {
   "cell_type": "markdown",
   "id": "7db25ad6",
   "metadata": {},
   "source": [
    "### Esercizio 8:\n",
    "\n",
    "Scrivi un programma in Python che, assegnata una parola di almeno 8 lettere a una variabile stringa, stampi tutta la parola con un carattere ? al posto della terza lettera."
   ]
  },
  {
   "cell_type": "code",
   "execution_count": 4,
   "id": "60b05c72",
   "metadata": {},
   "outputs": [
    {
     "name": "stdout",
     "output_type": "stream",
     "text": [
      "ab?assare\n"
     ]
    }
   ],
   "source": [
    "parola=\"abbassare\"\n",
    "parola=parola[:2]+\"?\"+parola[3:]\n",
    "print(f\"{parola}\")"
   ]
  },
  {
   "cell_type": "markdown",
   "id": "f3f8f14f",
   "metadata": {},
   "source": [
    "### Esercizio 9:\n",
    "\n",
    "Dati due punti nel piano cartesiano espressi come tuple:\n",
    "- assegna ai due punti delle coordinate a tua scelta;\n",
    "- costruisci una formula che calcoli la loro distanza;\n",
    "- stampa la distanza tra i due punti.\n"
   ]
  },
  {
   "cell_type": "code",
   "execution_count": 1,
   "id": "d3b2bdb0",
   "metadata": {},
   "outputs": [
    {
     "name": "stdout",
     "output_type": "stream",
     "text": [
      "la distanza tra i due punti è: 1.4142135623730951\n"
     ]
    }
   ],
   "source": [
    "import math\n",
    "punto_1=(4,1)\n",
    "punto_2=(5,2)\n",
    "x1, y1=punto_1\n",
    "x2, y2=punto_2\n",
    "distanza=math.sqrt(((x1-x2)**2)+((y1-y2)**2))\n",
    "print(f\"la distanza tra i due punti è: {distanza}\")"
   ]
  },
  {
   "cell_type": "markdown",
   "id": "df4f36b0",
   "metadata": {},
   "source": [
    "### Esercizio 10:\n",
    "\n",
    "Scrivi un programma in Python nel quale assegni alla variabile lista voti una lista con tutti i tuoi voti (al\n",
    "meno 6 voti). Sfrutta l'indicizzazione per:\n",
    "- stampare la lista senza il primo e l'ultimo voto;\n",
    "- sostituire il quarto voto con un 10\n",
    "- stampare i primi tre voti della lista"
   ]
  },
  {
   "cell_type": "code",
   "execution_count": 11,
   "id": "78eab32e",
   "metadata": {},
   "outputs": [
    {
     "name": "stdout",
     "output_type": "stream",
     "text": [
      "lista senza il primo e ultimo voto: [2, 3, 4, 5, 6]\n",
      "il quarto voto della lista, modificato, stampo la lista: [1, 2, 3, 10, 5, 6, 7]\n",
      "stampo i primi 3 voti della lista: [1, 2, 3]\n"
     ]
    }
   ],
   "source": [
    "lista_voti=[1, 2, 3, 4, 5, 6, 7]\n",
    "print(f\"lista senza il primo e ultimo voto: {lista_voti[1:-1]}\")\n",
    "\n",
    "lista_voti[3]=10\n",
    "print(f\"il quarto voto della lista, modificato, stampo la lista: {lista_voti}\")\n",
    "\n",
    "print(f\"stampo i primi 3 voti della lista: {lista_voti[:3]}\")\n"
   ]
  },
  {
   "cell_type": "markdown",
   "id": "62a56d73",
   "metadata": {},
   "source": [
    "### Esercizio 11:\n",
    "\n",
    "Scrivi un programma in Python in cui inizializzi la lista\n",
    "x = [0, 1, 2, 3, 5, 6, 7, 8] e poi che:\n",
    "- crei due nuove liste contenenti ciascuna una delle due metà della lista;\n",
    "- aggiungi il valore 5 alla lista contenente la prima metà.\n",
    "\n",
    "//->divisione intera"
   ]
  },
  {
   "cell_type": "code",
   "execution_count": 2,
   "id": "bd0ff559",
   "metadata": {},
   "outputs": [
    {
     "name": "stdout",
     "output_type": "stream",
     "text": [
      "Prima metà della lista x: [0, 1, 2, 3]\n",
      "seconda metà della lista x: [5, 6, 7, 8]\n",
      "Prima metà della lista x modificata: [0, 1, 2, 3, 5]\n"
     ]
    }
   ],
   "source": [
    " x = [0, 1, 2, 3, 5, 6, 7, 8]\n",
    "\n",
    "y=x[:(len(x)//2)]\n",
    "print(f\"Prima metà della lista x: {y}\")\n",
    "\n",
    "z=x[(len(x)//2):]\n",
    "print(f\"seconda metà della lista x: {z}\")\n",
    "\n",
    "y.append(5)\n",
    "print(f\"Prima metà della lista x modificata: {y}\")\n",
    "        "
   ]
  },
  {
   "cell_type": "code",
   "execution_count": 3,
   "id": "0c213df4",
   "metadata": {},
   "outputs": [
    {
     "name": "stdout",
     "output_type": "stream",
     "text": [
      "Prima metà della lista x: [0, 1, 2, 3, 4]\n",
      "seconda metà della lista x: [5, 6, 7, 8, 9]\n",
      "Prima metà della lista x modificata: [0, 1, 2, 3, 4, 5]\n"
     ]
    }
   ],
   "source": [
    " x = list(range(0,10))#range è un iteratore, con il tipo list ottengo un lista\n",
    "\n",
    "y=x[:(len(x)//2)]\n",
    "print(f\"Prima metà della lista x: {y}\")\n",
    "\n",
    "z=x[(len(x)//2):]\n",
    "print(f\"seconda metà della lista x: {z}\")\n",
    "\n",
    "y.append(5)\n",
    "print(f\"Prima metà della lista x modificata: {y}\")\n",
    "        "
   ]
  },
  {
   "cell_type": "markdown",
   "id": "bb095a6c",
   "metadata": {},
   "source": [
    "### Esercizio 12:\n",
    "Scrivi un programma in Python in cui applichi l'operatore di concatenazione delle stringhe alle seguenti due liste:\n",
    "a = [0, 1, 2, 3] e b = [4, 5, 6, 7].\n",
    "Stampa la lista finale."
   ]
  },
  {
   "cell_type": "code",
   "execution_count": 5,
   "id": "4feb9530",
   "metadata": {},
   "outputs": [
    {
     "name": "stdout",
     "output_type": "stream",
     "text": [
      "lista con le due liste concatenate: [0, 1, 2, 3, 4, 5, 6, 7]\n"
     ]
    }
   ],
   "source": [
    "a, b= [0, 1, 2, 3], [4, 5, 6, 7]\n",
    "c=a+b\n",
    "print(f\"lista con le due liste concatenate: {c}\")"
   ]
  },
  {
   "cell_type": "code",
   "execution_count": 6,
   "id": "91fb25ee",
   "metadata": {},
   "outputs": [
    {
     "data": {
      "text/plain": [
       "[0, 1, 2, 3, 0, 1, 2, 3, 0, 1, 2, 3]"
      ]
     },
     "execution_count": 6,
     "metadata": {},
     "output_type": "execute_result"
    }
   ],
   "source": [
    "a*3"
   ]
  },
  {
   "cell_type": "markdown",
   "id": "e7c4e612",
   "metadata": {},
   "source": [
    "### Esercizio 13:\n",
    "\n",
    "Scrivi un programma in Python in cui inizializzi un dizionario che realizzi una rubrica telefonica. Scegli alcuni dei tuoi amici e usa il loro nome come chiave del dizionario e il loro numero di telefono come valore. Stampa il numero di telefono di un amico a tua scelta. Aggiungi un nuovo amico alla rubrica e stampa l'intero dizionario."
   ]
  },
  {
   "cell_type": "code",
   "execution_count": 9,
   "id": "3c6fd45f",
   "metadata": {},
   "outputs": [
    {
     "name": "stdout",
     "output_type": "stream",
     "text": [
      "il numero di telefono è: 326289\n",
      "il dizionario completo: {'alice': 343473, 'io': 20202849, 'amico_1': 326289, 'amico_2': 23829020, 'amico_3': 3234467}\n"
     ]
    }
   ],
   "source": [
    "dizionario_contatti={\"alice\":343473, \"io\": 20202849, \"amico_1\":326289, \"amico_2\": 23829020}\n",
    "print(f\"il numero di telefono è: {dizionario_contatti['amico_1']}\")\n",
    "dizionario_contatti[\"amico_3\"]=3234467\n",
    "print(f\"il dizionario completo: {dizionario_contatti}\")"
   ]
  },
  {
   "cell_type": "markdown",
   "id": "89fff86b",
   "metadata": {},
   "source": [
    "### Esercizio 14:\n",
    "\n",
    "Scrivi un programma in Python che permetta all'utente di inserire il suo nome (tramite input ()) e che stampi\n",
    "il nome invertito."
   ]
  },
  {
   "cell_type": "code",
   "execution_count": 3,
   "id": "417bed4f",
   "metadata": {},
   "outputs": [
    {
     "name": "stdout",
     "output_type": "stream",
     "text": [
      "come ti chiami?matteo\n",
      "il tuo nome invertito è: oettam\n"
     ]
    }
   ],
   "source": [
    "nome=input(\"come ti chiami?\")\n",
    "print(f\"il tuo nome invertito è: {nome[::-1]}\")"
   ]
  },
  {
   "cell_type": "markdown",
   "id": "78c84173",
   "metadata": {},
   "source": [
    "### Esericizio 15:\n",
    "\n",
    "Scrivi un programma in Python che permetta all'utente di inserire il suo nome (tramite input ()) e che stampi il nome in cui tutti i caratteri tranne il primo sono sostituiti da un *.\n",
    "\n"
   ]
  },
  {
   "cell_type": "code",
   "execution_count": 15,
   "id": "3e3babe5",
   "metadata": {},
   "outputs": [
    {
     "name": "stdout",
     "output_type": "stream",
     "text": [
      "Come ti chiami?matteo\n",
      "il nome con gli asterischi è: m*****\n"
     ]
    }
   ],
   "source": [
    "nome=input(\"Come ti chiami?\")\n",
    "nome=nome[0]+(len(nome)-1)*\"*\"\n",
    "print(f\"il nome con gli asterischi è: {nome}\")"
   ]
  },
  {
   "cell_type": "markdown",
   "id": "72d14da4",
   "metadata": {},
   "source": [
    "### Esericizio 16:\n",
    "\n",
    "Scrivi un programma in Python che permetta all'utente di inserire il suo nome (tramite input ()) e che stampi la lista in cui gli elementi sono i caratteri del nome. Ti suggeriamo di cercare sulla documentazione ufficiale\n",
    "un'opportuna funzione.\n"
   ]
  },
  {
   "cell_type": "code",
   "execution_count": 17,
   "id": "f3539208",
   "metadata": {},
   "outputs": [
    {
     "name": "stdout",
     "output_type": "stream",
     "text": [
      "Come ti chiami?matteo\n",
      "il tuo nome con i carrateri separati è:['m', 'a', 't', 't', 'e', 'o']\n"
     ]
    }
   ],
   "source": [
    "nome=input(\"Come ti chiami?\")\n",
    "lista_lettere=list(nome)\n",
    "print(f\"il tuo nome con i carrateri separati è:{lista_lettere}\")"
   ]
  },
  {
   "cell_type": "markdown",
   "id": "8468ffea",
   "metadata": {},
   "source": [
    "### Esercizio 17:\n",
    "\n",
    "Scrivi un programma in Python che permetta all'utente di inserire le coordinate di due punti nel piano carte-siano. I punti devono essere salvati all'interno di tuple.\n",
    "Stampa la distanza tra i due punti."
   ]
  },
  {
   "cell_type": "code",
   "execution_count": 22,
   "id": "09f65e23",
   "metadata": {},
   "outputs": [
    {
     "name": "stdout",
     "output_type": "stream",
     "text": [
      "Inserisci l'ascissa del primo  punto (x,y) 5\n",
      "Inserisci l'odrinata del primo punto  (x,y) 6\n",
      "Inserisci l'ascissa del secondo  punto (x,y) 3\n",
      "Inserisci l'odrinata del secondo punto  (x,y) 4\n",
      "La distanza tra i due punti è: 2.8284271247461903\n"
     ]
    }
   ],
   "source": [
    "import math\n",
    "\n",
    "x1 =float(input(\"Inserisci l'ascissa del primo  punto (x,y) \"))\n",
    "y1=float(input(\"Inserisci l'odrinata del primo punto  (x,y) \"))\n",
    "x2=float(input(\"Inserisci l'ascissa del secondo  punto (x,y) \"))\n",
    "y2=float(input(\"Inserisci l'odrinata del secondo punto  (x,y) \"))\n",
    "punto_1=(x1, y1)\n",
    "punto_2=(x2, y2)\n",
    "distanza=math.sqrt(((x1-x2)**2)+((y1-y2)**2))\n",
    "print(f\"La distanza tra i due punti è: {distanza}\")\n",
    "\n",
    "\n"
   ]
  },
  {
   "cell_type": "markdown",
   "id": "06bfe40b",
   "metadata": {},
   "source": [
    "#### Esercizio 18:\n",
    "\n",
    "Scrivi un programma in Python che permetta all'utente di inserire due numeri. Crea una lista contenente:\n",
    "- la somma dei quadrati dei due numeri;\n",
    "- Il quadrato della somma dei numeri;\n",
    "- la differenza tra i quadrati dei due numeri;\n",
    "- il quadrato della differenza tra i numeri.\n",
    "\n",
    "\n",
    "Stampa la lista ottenuta."
   ]
  },
  {
   "cell_type": "code",
   "execution_count": 23,
   "id": "0283a999",
   "metadata": {},
   "outputs": [
    {
     "name": "stdout",
     "output_type": "stream",
     "text": [
      "Inserire il primo numero5\n",
      "Inserire il secondo numero4\n",
      "la lista con le opeazione è la seguente: [41.0, 81.0, 9.0, 81.0]\n"
     ]
    }
   ],
   "source": [
    "n1=float(input(\"Inserire il primo numero\"))\n",
    "n2=float(input(\"Inserire il secondo numero\"))\n",
    "lista_numeri=[(n1**2+n2**2), (n1+n2)**2, (n1**2-n2**2), (n1+n2)**2]\n",
    "print(f\"la lista con le opeazione è la seguente: {lista_numeri}\")"
   ]
  },
  {
   "cell_type": "markdown",
   "id": "64754549",
   "metadata": {},
   "source": [
    "### Esercizio 19:\n",
    "\n",
    "Scrivi un programma in Python che permetta all'utente di inserire due numeri qualsiasi. Crea un dizionario in cui salvi la media aritmetica e la media geometrica dei due numeri. Stampa il dizionario."
   ]
  },
  {
   "cell_type": "code",
   "execution_count": 26,
   "id": "038864fa",
   "metadata": {},
   "outputs": [
    {
     "name": "stdout",
     "output_type": "stream",
     "text": [
      "Inserire il primo numero27\n",
      "Inserire il secondo numero3\n",
      "dizionario medie: {'artitmetica': 15.0, 'geometrica': 9.0}\n"
     ]
    }
   ],
   "source": [
    "import math\n",
    "\n",
    "n1=float(input(\"Inserire il primo numero\"))\n",
    "n2=float(input(\"Inserire il secondo numero\"))\n",
    "\n",
    "dizionario_medie={\"artitmetica\": (n1+n2)/2, \"geometrica\":math.sqrt(n1*n2)}\n",
    "print(f\"dizionario medie: {dizionario_medie}\")"
   ]
  },
  {
   "cell_type": "code",
   "execution_count": null,
   "id": "da9758f8",
   "metadata": {},
   "outputs": [],
   "source": []
  }
 ],
 "metadata": {
  "kernelspec": {
   "display_name": "Python 3 (ipykernel)",
   "language": "python",
   "name": "python3"
  },
  "language_info": {
   "codemirror_mode": {
    "name": "ipython",
    "version": 3
   },
   "file_extension": ".py",
   "mimetype": "text/x-python",
   "name": "python",
   "nbconvert_exporter": "python",
   "pygments_lexer": "ipython3",
   "version": "3.11.4"
  }
 },
 "nbformat": 4,
 "nbformat_minor": 5
}
