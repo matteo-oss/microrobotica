{
 "cells": [
  {
   "cell_type": "markdown",
   "id": "be1f3b00",
   "metadata": {},
   "source": [
    "# un primo notebook\n",
    "questo è il mio primo notebook jupyter"
   ]
  },
  {
   "cell_type": "markdown",
   "id": "8b140143",
   "metadata": {},
   "source": [
    "Nel notebook posso creare tutte le funzioni Python.\n",
    "Il notebook ha uno spazio di memoria e tutte le celle condividono  uno spazio  di memoria e quello che faccio a una cela ha una conseguenza sulle altre.\n"
   ]
  },
  {
   "cell_type": "code",
   "execution_count": 13,
   "id": "b3fd3768",
   "metadata": {},
   "outputs": [],
   "source": [
    "#importazione delle librerie\n",
    "import random\n"
   ]
  },
  {
   "cell_type": "markdown",
   "id": "ae1670be",
   "metadata": {},
   "source": [
    "as e è un alias. nome che do alla libreria nel codice. Posso decidere come chiamarlo. Per le librerie usate i nomi sono diventati standard"
   ]
  },
  {
   "cell_type": "code",
   "execution_count": 2,
   "id": "14422297",
   "metadata": {},
   "outputs": [
    {
     "name": "stdout",
     "output_type": "stream",
     "text": [
      "[1, 4, 9, 16]\n"
     ]
    }
   ],
   "source": [
    "quadrati_perfetti= []\n",
    "for i in range(1,5):\n",
    "    #funziona il tab: autocompletamento\n",
    "    quadrati_perfetti.append(i**2)\n",
    "print(quadrati_perfetti)"
   ]
  },
  {
   "cell_type": "markdown",
   "id": "052ea12e",
   "metadata": {},
   "source": [
    "questo codice crea una lista contente i quadrati dei primi 5 numeri naturali e li stampa."
   ]
  },
  {
   "cell_type": "markdown",
   "id": "b22111c5",
   "metadata": {},
   "source": [
    "### List comprehension:\n",
    "\n"
   ]
  },
  {
   "cell_type": "code",
   "execution_count": 3,
   "id": "2c8609b6",
   "metadata": {},
   "outputs": [
    {
     "name": "stdout",
     "output_type": "stream",
     "text": [
      "[1, 4, 9, 16, 25, 36, 49, 64, 81]\n"
     ]
    }
   ],
   "source": [
    "quadrati_perfetti=[i**2 for i in range(1,10)]\n",
    "print(quadrati_perfetti)"
   ]
  },
  {
   "cell_type": "markdown",
   "id": "44e8798f",
   "metadata": {},
   "source": [
    "i al quadrato per gli i nel range(= intervallo) (1,10)\n",
    "\n",
    "in notebook per una variabile posso non mettere la print:"
   ]
  },
  {
   "cell_type": "code",
   "execution_count": 4,
   "id": "6c0595a1",
   "metadata": {},
   "outputs": [
    {
     "data": {
      "text/plain": [
       "[1, 4, 9, 16, 25, 36, 49, 64, 81]"
      ]
     },
     "execution_count": 4,
     "metadata": {},
     "output_type": "execute_result"
    }
   ],
   "source": [
    "quadrati_perfetti"
   ]
  },
  {
   "cell_type": "code",
   "execution_count": 5,
   "id": "813d6ff8",
   "metadata": {},
   "outputs": [
    {
     "data": {
      "text/plain": [
       "[4, 16, 36, 64]"
      ]
     },
     "execution_count": 5,
     "metadata": {},
     "output_type": "execute_result"
    }
   ],
   "source": [
    "quadrati_perfetti_pari=[i**2 for i in range(1,10) if i**2%2==0]\n",
    "quadrati_perfetti_pari"
   ]
  },
  {
   "cell_type": "markdown",
   "id": "2728b392",
   "metadata": {},
   "source": [
    "i al quadrato per gli i nel range(= intervallo) (1,10) se il quadrato di i è pari. \n",
    "Ho creato una lista con una sola riga e la condizione è come un filtro.\n",
    "\n"
   ]
  },
  {
   "cell_type": "markdown",
   "id": "a9ea52a8",
   "metadata": {},
   "source": [
    "### Liste di Stringhe"
   ]
  },
  {
   "cell_type": "code",
   "execution_count": 6,
   "id": "2194bdf0",
   "metadata": {},
   "outputs": [
    {
     "data": {
      "text/plain": [
       "['scuola', 'classe', 'computer', 'aula', 'cellulare']"
      ]
     },
     "execution_count": 6,
     "metadata": {},
     "output_type": "execute_result"
    }
   ],
   "source": [
    "parole=[\"scuola\", \"classe\", \"computer\", \"aula\", \"cellulare\"]\n",
    "parole"
   ]
  },
  {
   "cell_type": "markdown",
   "id": "59854d62",
   "metadata": {},
   "source": [
    "Creazione lista di stringhe"
   ]
  },
  {
   "cell_type": "code",
   "execution_count": 7,
   "id": "3a0030a1",
   "metadata": {},
   "outputs": [
    {
     "data": {
      "text/plain": [
       "['classe', 'computer', 'cellulare']"
      ]
     },
     "execution_count": 7,
     "metadata": {},
     "output_type": "execute_result"
    }
   ],
   "source": [
    "parole_c=[parola for parola in parole if parola[0]==\"c\"]\n",
    "parole_c"
   ]
  },
  {
   "cell_type": "markdown",
   "id": "2e2105fc",
   "metadata": {},
   "source": [
    "List comprehension: con un riga tiro fuori un sottoinsieme di una lista, la condizione è come un filtro: creami una lista le formata dalle parole che nella lista \"parole\" inizano con la lettera \"c\""
   ]
  },
  {
   "cell_type": "code",
   "execution_count": 8,
   "id": "8f4d5ba9",
   "metadata": {},
   "outputs": [
    {
     "data": {
      "text/plain": [
       "'TIS'"
      ]
     },
     "execution_count": 8,
     "metadata": {},
     "output_type": "execute_result"
    }
   ],
   "source": [
    "stringa=\"ITIS Delpozzo\"\n",
    "stringa[1:4]"
   ]
  },
  {
   "cell_type": "markdown",
   "id": "76f746a2",
   "metadata": {},
   "source": [
    "Slice: permette di tagliare le stringhe"
   ]
  },
  {
   "cell_type": "code",
   "execution_count": 9,
   "id": "a6cbe08e",
   "metadata": {},
   "outputs": [
    {
     "data": {
      "text/plain": [
       "'S Delpozzo'"
      ]
     },
     "execution_count": 9,
     "metadata": {},
     "output_type": "execute_result"
    }
   ],
   "source": [
    "stringa=\"ITIS Delpozzo\"\n",
    "stringa[3:]"
   ]
  },
  {
   "cell_type": "markdown",
   "id": "6d616af5",
   "metadata": {},
   "source": [
    "dal 3 fino alla fine. Stessa sintassi per stringhe e liste.\n",
    "In Python c'è il controllo dei tipi dinamico e tutti sono oggetti.\n",
    "\n",
    "Tipi elementari: \n",
    "- numerici, \n",
    "- stringhe sono immutabili, \n",
    "- collezioni:tipi che possono contenere più oggetti di tipi diversi, come liste tuple e dizionari \n",
    "\n",
    "\n",
    "Mentre gli array hanno tutti lo stesso tipo.\n",
    "Gli array sono memorizzati in blocchi sequenziali, c'è una libreria per gli array: numpy\n"
   ]
  },
  {
   "cell_type": "markdown",
   "id": "1effa303",
   "metadata": {},
   "source": [
    "## Collezioni\n",
    "- Liste: [] inidicizzate con gli interi 0...n, mutabili\n",
    "- Tuple: () inidicizzate con gli interi 0...n, immutabili\n",
    "- Dizionari: {} indicizzati con le chiavi, mutabili\n",
    "\n",
    "Per mutabile: posso cambiare lunghezza e elementi.\n",
    "\n",
    "\n",
    "Per immutabile: non posso cambiare lunghezza e elementi.\n",
    "\n"
   ]
  },
  {
   "cell_type": "code",
   "execution_count": 10,
   "id": "aade4bc0",
   "metadata": {},
   "outputs": [],
   "source": [
    "lista=[1,2,3]\n",
    "stringa=\"123\"#le stringhe sono immutabili"
   ]
  },
  {
   "cell_type": "code",
   "execution_count": 11,
   "id": "4c7a1644",
   "metadata": {},
   "outputs": [
    {
     "data": {
      "text/plain": [
       "[9, 2, 3]"
      ]
     },
     "execution_count": 11,
     "metadata": {},
     "output_type": "execute_result"
    }
   ],
   "source": [
    "lista[0]=9\n",
    "lista"
   ]
  },
  {
   "cell_type": "code",
   "execution_count": 12,
   "id": "def3b3b8",
   "metadata": {},
   "outputs": [
    {
     "ename": "TypeError",
     "evalue": "'str' object does not support item assignment",
     "output_type": "error",
     "traceback": [
      "\u001b[1;31m---------------------------------------------------------------------------\u001b[0m",
      "\u001b[1;31mTypeError\u001b[0m                                 Traceback (most recent call last)",
      "Cell \u001b[1;32mIn[12], line 1\u001b[0m\n\u001b[1;32m----> 1\u001b[0m stringa[\u001b[38;5;241m0\u001b[39m]\u001b[38;5;241m=\u001b[39m\u001b[38;5;241m9\u001b[39m\n",
      "\u001b[1;31mTypeError\u001b[0m: 'str' object does not support item assignment"
     ]
    }
   ],
   "source": [
    "stringa[0]=9"
   ]
  },
  {
   "cell_type": "markdown",
   "id": "a9a08bcf",
   "metadata": {},
   "source": [
    "Per modificare una stringa:"
   ]
  },
  {
   "cell_type": "code",
   "execution_count": null,
   "id": "ac40542f",
   "metadata": {},
   "outputs": [],
   "source": [
    "stringa=\"9\"+stringa[1:]\n",
    "stringa\n"
   ]
  },
  {
   "cell_type": "markdown",
   "id": "71fcfb68",
   "metadata": {},
   "source": [
    "### Funzioni:"
   ]
  },
  {
   "cell_type": "code",
   "execution_count": 4,
   "id": "31400438",
   "metadata": {},
   "outputs": [],
   "source": [
    "def somma_prodotto(a,b):\n",
    "    return a+b, a*b\n",
    "risultato=somma_prodotto(4,5)"
   ]
  },
  {
   "cell_type": "code",
   "execution_count": 5,
   "id": "a4ca593a",
   "metadata": {},
   "outputs": [
    {
     "data": {
      "text/plain": [
       "9"
      ]
     },
     "execution_count": 5,
     "metadata": {},
     "output_type": "execute_result"
    }
   ],
   "source": [
    "risultato[0]"
   ]
  },
  {
   "cell_type": "markdown",
   "id": "6e895341",
   "metadata": {},
   "source": [
    "risulato è una tupla. per vedere solo la somma, uso l'indicizzazione"
   ]
  },
  {
   "cell_type": "code",
   "execution_count": null,
   "id": "68f7ab0e",
   "metadata": {},
   "outputs": [],
   "source": [
    "#spacchettare la tupla \n",
    "somma, prodotto=risultato\n",
    "somma"
   ]
  },
  {
   "cell_type": "markdown",
   "id": "dbde234e",
   "metadata": {},
   "source": [
    "Il risultato ha due parti che assegno a due variabili. E' detto assegnazione multipla"
   ]
  },
  {
   "cell_type": "code",
   "execution_count": null,
   "id": "43fd047c",
   "metadata": {},
   "outputs": [],
   "source": [
    "#algoritmo di scambio\n",
    "a, b=1, 2\n",
    "a,b=b,a\n",
    "print(a, b)"
   ]
  },
  {
   "cell_type": "markdown",
   "id": "3ab2b0e7",
   "metadata": {},
   "source": [
    "quando facciamo un'assegnazione, la variabile è un puntatore e python scambia gli indirizzi"
   ]
  },
  {
   "cell_type": "code",
   "execution_count": 21,
   "id": "61b70e04",
   "metadata": {},
   "outputs": [
    {
     "data": {
      "text/plain": [
       "'abc'"
      ]
     },
     "execution_count": 21,
     "metadata": {},
     "output_type": "execute_result"
    }
   ],
   "source": [
    "lista=[\"a\", \"b\", \"c\"]\n",
    "\"\".join(lista)"
   ]
  },
  {
   "cell_type": "markdown",
   "id": "0387719b",
   "metadata": {},
   "source": [
    "il metodo join permette di concatenare le parole di una lista in una sola stringa\n"
   ]
  },
  {
   "cell_type": "markdown",
   "id": "a7ac7535",
   "metadata": {},
   "source": [
    "## Dizionari\n",
    "\n",
    "l'elemento è composto da una coppia chave-valore\n",
    "\n",
    "è una collezione di coppie chiave-valore\n",
    "la chiave deve essere unica per ogni elemento poichè si indicizza per chiave. \n",
    "\n",
    "Per avere un elemento:"
   ]
  },
  {
   "cell_type": "code",
   "execution_count": 1,
   "id": "09af9800",
   "metadata": {},
   "outputs": [
    {
     "data": {
      "text/plain": [
       "892"
      ]
     },
     "execution_count": 1,
     "metadata": {},
     "output_type": "execute_result"
    }
   ],
   "source": [
    "dizionario={\"a\":373, \"b\":892, \"c\":172}\n",
    "dizionario[\"b\"]"
   ]
  },
  {
   "cell_type": "markdown",
   "id": "e8189002",
   "metadata": {},
   "source": [
    "per aggiungere un elemento"
   ]
  },
  {
   "cell_type": "code",
   "execution_count": null,
   "id": "0179bbff",
   "metadata": {},
   "outputs": [],
   "source": [
    "dizionario[\"d\"]=182\n",
    "dizionario"
   ]
  },
  {
   "cell_type": "markdown",
   "id": "bfc2669f",
   "metadata": {},
   "source": [
    "### Cicli for sulle liste"
   ]
  },
  {
   "cell_type": "code",
   "execution_count": 5,
   "id": "b1b420a2",
   "metadata": {},
   "outputs": [],
   "source": [
    "lista=[12, 34, \"ciao\", somma_prodotto]\n"
   ]
  },
  {
   "cell_type": "markdown",
   "id": "f99da371",
   "metadata": {},
   "source": [
    "la lista funziona perchè in python tutto è un oggetto"
   ]
  },
  {
   "cell_type": "code",
   "execution_count": 6,
   "id": "37892a57",
   "metadata": {},
   "outputs": [
    {
     "name": "stdout",
     "output_type": "stream",
     "text": [
      "12\n",
      "34\n",
      "ciao\n",
      "<function somma_prodotto at 0x00000255CCB0B920>\n"
     ]
    }
   ],
   "source": [
    "#C-style\n",
    "for i in range(0, len(lista)):\n",
    "    print(lista[i])"
   ]
  },
  {
   "cell_type": "markdown",
   "id": "8ab4dc3b",
   "metadata": {},
   "source": [
    "per la funzione che non è built-in. Stampa il puntatore alla cella dove inizia la funzione, accedo per indice"
   ]
  },
  {
   "cell_type": "code",
   "execution_count": 7,
   "id": "077447af",
   "metadata": {},
   "outputs": [
    {
     "name": "stdout",
     "output_type": "stream",
     "text": [
      "12\n",
      "34\n",
      "ciao\n",
      "<function somma_prodotto at 0x00000255CCB0B920>\n"
     ]
    }
   ],
   "source": [
    "#Python-style\n",
    "for elemento in lista:\n",
    "    print(elemento)"
   ]
  },
  {
   "cell_type": "markdown",
   "id": "5d0d7f1a",
   "metadata": {},
   "source": [
    "Risulato identico, con meno codice, accedo per elemento"
   ]
  },
  {
   "cell_type": "code",
   "execution_count": 8,
   "id": "3093f6d3",
   "metadata": {},
   "outputs": [
    {
     "name": "stdout",
     "output_type": "stream",
     "text": [
      "in posizione indice: 0 troviamo l'elemento 12\n",
      "in posizione indice: 1 troviamo l'elemento 34\n",
      "in posizione indice: 2 troviamo l'elemento ciao\n",
      "in posizione indice: 3 troviamo l'elemento <function somma_prodotto at 0x00000255CCB0B920>\n"
     ]
    }
   ],
   "source": [
    "#Python-style\n",
    "for indice, elemento in enumerate(lista):\n",
    "    print(f\"in posizione indice: {indice} troviamo l'elemento {elemento}\")"
   ]
  },
  {
   "cell_type": "markdown",
   "id": "1c038e15",
   "metadata": {},
   "source": [
    "nel for c'è un assegnazione multipla.\n",
    "\n",
    "Prima indice e poi elemento.\n",
    "con l'enumerate ottengo l'indice "
   ]
  },
  {
   "cell_type": "code",
   "execution_count": 10,
   "id": "008f3d83",
   "metadata": {},
   "outputs": [],
   "source": [
    "lista2=[100, 101,102,103]"
   ]
  },
  {
   "cell_type": "code",
   "execution_count": 11,
   "id": "90717e1e",
   "metadata": {},
   "outputs": [
    {
     "name": "stdout",
     "output_type": "stream",
     "text": [
      "12 -  100\n",
      "34 -  101\n",
      "ciao -  102\n",
      "<function somma_prodotto at 0x00000255CCB0B920> -  103\n"
     ]
    }
   ],
   "source": [
    "#C-style for su entrambe le liste\n",
    "for i in range(0, len(lista)):\n",
    "    print(f\"{lista[i]} -  {lista2[i]}\")\n",
    "    #selezionando la variabile e premendo \"\" e {} la metto al loro interno\n",
    "    \n"
   ]
  },
  {
   "cell_type": "code",
   "execution_count": 12,
   "id": "ce72fb42",
   "metadata": {},
   "outputs": [
    {
     "name": "stdout",
     "output_type": "stream",
     "text": [
      "12 - 100\n",
      "34 - 101\n",
      "ciao - 102\n",
      "<function somma_prodotto at 0x00000255CCB0B920> - 103\n"
     ]
    }
   ],
   "source": [
    "#Python-style su entrambe le liste\n",
    "for elemento, elemento2 in zip(lista, lista2):\n",
    "    print(f\"{elemento} - {elemento2}\")\n"
   ]
  },
  {
   "cell_type": "markdown",
   "id": "6d692bb9",
   "metadata": {},
   "source": [
    "zip fa scorrere le liste in parallelo. \n",
    "\n",
    "Con liste di lunghezza diversa si ferma alla lista più corta.\n",
    "\n"
   ]
  },
  {
   "cell_type": "markdown",
   "id": "8438442a",
   "metadata": {},
   "source": [
    "## Cicli sui dizionari:"
   ]
  },
  {
   "cell_type": "code",
   "execution_count": 13,
   "id": "7611fccb",
   "metadata": {},
   "outputs": [],
   "source": [
    "d={\"a\":[\"albero\", \"albergo\"], \"b\":[\"bello\"], \"c\":[\"ciao, cellulare\"]}\n"
   ]
  },
  {
   "cell_type": "code",
   "execution_count": 14,
   "id": "c37d198f",
   "metadata": {},
   "outputs": [
    {
     "data": {
      "text/plain": [
       "{'a': ['albero', 'albergo'], 'b': ['bello'], 'c': ['ciao, cellulare']}"
      ]
     },
     "execution_count": 14,
     "metadata": {},
     "output_type": "execute_result"
    }
   ],
   "source": [
    "d"
   ]
  },
  {
   "cell_type": "markdown",
   "id": "a6bc49d4",
   "metadata": {},
   "source": [
    "### ciclo for sulle chaivi:"
   ]
  },
  {
   "cell_type": "code",
   "execution_count": 15,
   "id": "cab3d3e1",
   "metadata": {},
   "outputs": [
    {
     "name": "stdout",
     "output_type": "stream",
     "text": [
      "la chiave è:a e il valore è ['albero', 'albergo']\n",
      "la chiave è:b e il valore è ['bello']\n",
      "la chiave è:c e il valore è ['ciao, cellulare']\n"
     ]
    }
   ],
   "source": [
    "for chiave in d:\n",
    "    print(f\"la chiave è:{chiave} e il valore è {d[chiave]}\")"
   ]
  },
  {
   "cell_type": "code",
   "execution_count": 16,
   "id": "589148bb",
   "metadata": {},
   "outputs": [
    {
     "name": "stdout",
     "output_type": "stream",
     "text": [
      "la chiave è:a e il valore è ['albero', 'albergo']\n",
      "la chiave è:b e il valore è ['bello']\n",
      "la chiave è:c e il valore è ['ciao, cellulare']\n"
     ]
    }
   ],
   "source": [
    "for chiave, valore in d.items():\n",
    "    print(f\"la chiave è:{chiave} e il valore è {valore}\")\n",
    "    "
   ]
  },
  {
   "cell_type": "code",
   "execution_count": 22,
   "id": "61699433",
   "metadata": {},
   "outputs": [
    {
     "name": "stdout",
     "output_type": "stream",
     "text": [
      "True\n",
      "False\n"
     ]
    }
   ],
   "source": [
    "#per verificare se una parola è nel dizionario\n",
    "#operatore in: cerca se la stringa è nelle chiavi\n",
    "#python per l'in fa un ciclo, scritto in c\n",
    "diz={\"a\": \"alice\", \"b\": \"bacon\", \"c\": \"cellulare\"}\n",
    "print(\"a\" in diz)\n",
    "print(\"z\" in diz)"
   ]
  },
  {
   "cell_type": "markdown",
   "id": "9fc6f90a",
   "metadata": {},
   "source": [
    "# esercizio:\n",
    "\n",
    "la prima parola della lista con iniziale uguale alla sua chiave\n"
   ]
  },
  {
   "cell_type": "code",
   "execution_count": 17,
   "id": "674f45ff",
   "metadata": {},
   "outputs": [
    {
     "name": "stdout",
     "output_type": "stream",
     "text": [
      "la prima parola della lista con inziale a è albero\n",
      "la prima parola della lista con inziale b è bello\n",
      "la prima parola della lista con inziale c è ciao, cellulare\n"
     ]
    }
   ],
   "source": [
    "for chiave in d:\n",
    "    print(f\"la prima parola della lista con inziale {chiave} è {d[chiave][0]}\")"
   ]
  },
  {
   "cell_type": "markdown",
   "id": "bc0f6ebb",
   "metadata": {},
   "source": [
    "## lettura file di testo\n",
    "readlines, ritorna una lista con tutte le righe"
   ]
  },
  {
   "cell_type": "code",
   "execution_count": 18,
   "id": "b7c1e7c5",
   "metadata": {},
   "outputs": [
    {
     "name": "stdout",
     "output_type": "stream",
     "text": [
      "Righe del file di testo: ['ciao\\n', 'ok\\n', 'bello\\n']\n"
     ]
    }
   ],
   "source": [
    "file = open(\"./file_di_testo.txt\", \"r\")\n",
    "righe = file.readlines()\n",
    "print(f\"Righe del file di testo: {righe}\")\n",
    "file.close()"
   ]
  },
  {
   "cell_type": "markdown",
   "id": "cc755160",
   "metadata": {},
   "source": [
    "stampo il contenuto del file:"
   ]
  },
  {
   "cell_type": "code",
   "execution_count": 19,
   "id": "1a477d25",
   "metadata": {},
   "outputs": [
    {
     "name": "stdout",
     "output_type": "stream",
     "text": [
      "ciao\n",
      "\n",
      "ok\n",
      "\n",
      "bello\n",
      "\n"
     ]
    }
   ],
   "source": [
    "for riga in righe:\n",
    "    print(riga)"
   ]
  },
  {
   "cell_type": "markdown",
   "id": "3df0b8ef",
   "metadata": {},
   "source": [
    "ci sono gli \\n, per toglierli:"
   ]
  },
  {
   "cell_type": "code",
   "execution_count": 20,
   "id": "a77548f8",
   "metadata": {},
   "outputs": [
    {
     "name": "stdout",
     "output_type": "stream",
     "text": [
      "ciao\n",
      "ok\n",
      "bello\n"
     ]
    }
   ],
   "source": [
    "for riga in righe:\n",
    "    print(riga[:-1])"
   ]
  }
 ],
 "metadata": {
  "kernelspec": {
   "display_name": "Python 3 (ipykernel)",
   "language": "python",
   "name": "python3"
  },
  "language_info": {
   "codemirror_mode": {
    "name": "ipython",
    "version": 3
   },
   "file_extension": ".py",
   "mimetype": "text/x-python",
   "name": "python",
   "nbconvert_exporter": "python",
   "pygments_lexer": "ipython3",
   "version": "3.11.4"
  }
 },
 "nbformat": 4,
 "nbformat_minor": 5
}
